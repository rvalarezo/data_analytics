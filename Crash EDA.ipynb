{
  "nbformat": 4,
  "nbformat_minor": 0,
  "metadata": {
    "colab": {
      "provenance": [],
      "authorship_tag": "ABX9TyMQm0B/iT2d0MZtkFvqr1Mj",
      "include_colab_link": true
    },
    "kernelspec": {
      "name": "python3",
      "display_name": "Python 3"
    },
    "language_info": {
      "name": "python"
    }
  },
  "cells": [
    {
      "cell_type": "markdown",
      "metadata": {
        "id": "view-in-github",
        "colab_type": "text"
      },
      "source": [
        "<a href=\"https://colab.research.google.com/github/rvalarezo/data_analytics/blob/main/Crash%20EDA.ipynb\" target=\"_parent\"><img src=\"https://colab.research.google.com/assets/colab-badge.svg\" alt=\"Open In Colab\"/></a>"
      ]
    },
    {
      "cell_type": "code",
      "source": [
        "import kagglehub\n",
        "import pandas as pd\n",
        "import numpy as np\n",
        "import matplotlib.pyplot as plt\n",
        "import seaborn as sns\n",
        "import calendar"
      ],
      "metadata": {
        "id": "WMOlqMBaph1I"
      },
      "execution_count": 73,
      "outputs": []
    },
    {
      "cell_type": "code",
      "execution_count": 2,
      "metadata": {
        "colab": {
          "base_uri": "https://localhost:8080/"
        },
        "id": "PjBlhDJLpcDF",
        "outputId": "e3ae00b1-8bfb-4b42-b13e-255c259782ff"
      },
      "outputs": [
        {
          "output_type": "stream",
          "name": "stdout",
          "text": [
            "Downloading from https://www.kaggle.com/api/v1/datasets/download/oktayrdeki/traffic-accidents?dataset_version_number=1...\n"
          ]
        },
        {
          "output_type": "stream",
          "name": "stderr",
          "text": [
            "100%|██████████| 4.64M/4.64M [00:00<00:00, 59.3MB/s]"
          ]
        },
        {
          "output_type": "stream",
          "name": "stdout",
          "text": [
            "Extracting files...\n"
          ]
        },
        {
          "output_type": "stream",
          "name": "stderr",
          "text": [
            "\n"
          ]
        },
        {
          "output_type": "stream",
          "name": "stdout",
          "text": [
            "Path to dataset files: /root/.cache/kagglehub/datasets/oktayrdeki/traffic-accidents/versions/1\n"
          ]
        }
      ],
      "source": [
        "# Download latest version\n",
        "path = kagglehub.dataset_download(\"oktayrdeki/traffic-accidents\")\n",
        "print(\"Path to dataset files:\", path)"
      ]
    },
    {
      "cell_type": "code",
      "source": [
        "df = pd.read_csv(path + \"/traffic_accidents.csv\")\n",
        "df.head()"
      ],
      "metadata": {
        "colab": {
          "base_uri": "https://localhost:8080/",
          "height": 531
        },
        "id": "yN6Plm-fpm3X",
        "outputId": "b728cf26-0377-40f6-97b4-209024fba1ed"
      },
      "execution_count": 8,
      "outputs": [
        {
          "output_type": "execute_result",
          "data": {
            "text/plain": [
              "               crash_date traffic_control_device weather_condition  \\\n",
              "0  07/29/2023 01:00:00 PM         TRAFFIC SIGNAL             CLEAR   \n",
              "1  08/13/2023 12:11:00 AM         TRAFFIC SIGNAL             CLEAR   \n",
              "2  12/09/2021 10:30:00 AM         TRAFFIC SIGNAL             CLEAR   \n",
              "3  08/09/2023 07:55:00 PM         TRAFFIC SIGNAL             CLEAR   \n",
              "4  08/19/2023 02:55:00 PM         TRAFFIC SIGNAL             CLEAR   \n",
              "\n",
              "       lighting_condition first_crash_type trafficway_type  \\\n",
              "0                DAYLIGHT          TURNING     NOT DIVIDED   \n",
              "1  DARKNESS, LIGHTED ROAD          TURNING        FOUR WAY   \n",
              "2                DAYLIGHT         REAR END  T-INTERSECTION   \n",
              "3                DAYLIGHT            ANGLE        FOUR WAY   \n",
              "4                DAYLIGHT         REAR END  T-INTERSECTION   \n",
              "\n",
              "            alignment roadway_surface_cond road_defect  \\\n",
              "0  STRAIGHT AND LEVEL              UNKNOWN     UNKNOWN   \n",
              "1  STRAIGHT AND LEVEL                  DRY  NO DEFECTS   \n",
              "2  STRAIGHT AND LEVEL                  DRY  NO DEFECTS   \n",
              "3  STRAIGHT AND LEVEL                  DRY  NO DEFECTS   \n",
              "4  STRAIGHT AND LEVEL              UNKNOWN     UNKNOWN   \n",
              "\n",
              "                         crash_type  ...        most_severe_injury  \\\n",
              "0            NO INJURY / DRIVE AWAY  ...   NO INDICATION OF INJURY   \n",
              "1            NO INJURY / DRIVE AWAY  ...   NO INDICATION OF INJURY   \n",
              "2            NO INJURY / DRIVE AWAY  ...   NO INDICATION OF INJURY   \n",
              "3  INJURY AND / OR TOW DUE TO CRASH  ...  NONINCAPACITATING INJURY   \n",
              "4            NO INJURY / DRIVE AWAY  ...   NO INDICATION OF INJURY   \n",
              "\n",
              "  injuries_total injuries_fatal  injuries_incapacitating  \\\n",
              "0            0.0            0.0                      0.0   \n",
              "1            0.0            0.0                      0.0   \n",
              "2            0.0            0.0                      0.0   \n",
              "3            5.0            0.0                      0.0   \n",
              "4            0.0            0.0                      0.0   \n",
              "\n",
              "  injuries_non_incapacitating  injuries_reported_not_evident  \\\n",
              "0                         0.0                            0.0   \n",
              "1                         0.0                            0.0   \n",
              "2                         0.0                            0.0   \n",
              "3                         5.0                            0.0   \n",
              "4                         0.0                            0.0   \n",
              "\n",
              "   injuries_no_indication  crash_hour  crash_day_of_week  crash_month  \n",
              "0                     3.0          13                  7            7  \n",
              "1                     2.0           0                  1            8  \n",
              "2                     3.0          10                  5           12  \n",
              "3                     0.0          19                  4            8  \n",
              "4                     3.0          14                  7            8  \n",
              "\n",
              "[5 rows x 24 columns]"
            ],
            "text/html": [
              "\n",
              "  <div id=\"df-37c85718-3dc3-4134-aecf-35324ba20d37\" class=\"colab-df-container\">\n",
              "    <div>\n",
              "<style scoped>\n",
              "    .dataframe tbody tr th:only-of-type {\n",
              "        vertical-align: middle;\n",
              "    }\n",
              "\n",
              "    .dataframe tbody tr th {\n",
              "        vertical-align: top;\n",
              "    }\n",
              "\n",
              "    .dataframe thead th {\n",
              "        text-align: right;\n",
              "    }\n",
              "</style>\n",
              "<table border=\"1\" class=\"dataframe\">\n",
              "  <thead>\n",
              "    <tr style=\"text-align: right;\">\n",
              "      <th></th>\n",
              "      <th>crash_date</th>\n",
              "      <th>traffic_control_device</th>\n",
              "      <th>weather_condition</th>\n",
              "      <th>lighting_condition</th>\n",
              "      <th>first_crash_type</th>\n",
              "      <th>trafficway_type</th>\n",
              "      <th>alignment</th>\n",
              "      <th>roadway_surface_cond</th>\n",
              "      <th>road_defect</th>\n",
              "      <th>crash_type</th>\n",
              "      <th>...</th>\n",
              "      <th>most_severe_injury</th>\n",
              "      <th>injuries_total</th>\n",
              "      <th>injuries_fatal</th>\n",
              "      <th>injuries_incapacitating</th>\n",
              "      <th>injuries_non_incapacitating</th>\n",
              "      <th>injuries_reported_not_evident</th>\n",
              "      <th>injuries_no_indication</th>\n",
              "      <th>crash_hour</th>\n",
              "      <th>crash_day_of_week</th>\n",
              "      <th>crash_month</th>\n",
              "    </tr>\n",
              "  </thead>\n",
              "  <tbody>\n",
              "    <tr>\n",
              "      <th>0</th>\n",
              "      <td>07/29/2023 01:00:00 PM</td>\n",
              "      <td>TRAFFIC SIGNAL</td>\n",
              "      <td>CLEAR</td>\n",
              "      <td>DAYLIGHT</td>\n",
              "      <td>TURNING</td>\n",
              "      <td>NOT DIVIDED</td>\n",
              "      <td>STRAIGHT AND LEVEL</td>\n",
              "      <td>UNKNOWN</td>\n",
              "      <td>UNKNOWN</td>\n",
              "      <td>NO INJURY / DRIVE AWAY</td>\n",
              "      <td>...</td>\n",
              "      <td>NO INDICATION OF INJURY</td>\n",
              "      <td>0.0</td>\n",
              "      <td>0.0</td>\n",
              "      <td>0.0</td>\n",
              "      <td>0.0</td>\n",
              "      <td>0.0</td>\n",
              "      <td>3.0</td>\n",
              "      <td>13</td>\n",
              "      <td>7</td>\n",
              "      <td>7</td>\n",
              "    </tr>\n",
              "    <tr>\n",
              "      <th>1</th>\n",
              "      <td>08/13/2023 12:11:00 AM</td>\n",
              "      <td>TRAFFIC SIGNAL</td>\n",
              "      <td>CLEAR</td>\n",
              "      <td>DARKNESS, LIGHTED ROAD</td>\n",
              "      <td>TURNING</td>\n",
              "      <td>FOUR WAY</td>\n",
              "      <td>STRAIGHT AND LEVEL</td>\n",
              "      <td>DRY</td>\n",
              "      <td>NO DEFECTS</td>\n",
              "      <td>NO INJURY / DRIVE AWAY</td>\n",
              "      <td>...</td>\n",
              "      <td>NO INDICATION OF INJURY</td>\n",
              "      <td>0.0</td>\n",
              "      <td>0.0</td>\n",
              "      <td>0.0</td>\n",
              "      <td>0.0</td>\n",
              "      <td>0.0</td>\n",
              "      <td>2.0</td>\n",
              "      <td>0</td>\n",
              "      <td>1</td>\n",
              "      <td>8</td>\n",
              "    </tr>\n",
              "    <tr>\n",
              "      <th>2</th>\n",
              "      <td>12/09/2021 10:30:00 AM</td>\n",
              "      <td>TRAFFIC SIGNAL</td>\n",
              "      <td>CLEAR</td>\n",
              "      <td>DAYLIGHT</td>\n",
              "      <td>REAR END</td>\n",
              "      <td>T-INTERSECTION</td>\n",
              "      <td>STRAIGHT AND LEVEL</td>\n",
              "      <td>DRY</td>\n",
              "      <td>NO DEFECTS</td>\n",
              "      <td>NO INJURY / DRIVE AWAY</td>\n",
              "      <td>...</td>\n",
              "      <td>NO INDICATION OF INJURY</td>\n",
              "      <td>0.0</td>\n",
              "      <td>0.0</td>\n",
              "      <td>0.0</td>\n",
              "      <td>0.0</td>\n",
              "      <td>0.0</td>\n",
              "      <td>3.0</td>\n",
              "      <td>10</td>\n",
              "      <td>5</td>\n",
              "      <td>12</td>\n",
              "    </tr>\n",
              "    <tr>\n",
              "      <th>3</th>\n",
              "      <td>08/09/2023 07:55:00 PM</td>\n",
              "      <td>TRAFFIC SIGNAL</td>\n",
              "      <td>CLEAR</td>\n",
              "      <td>DAYLIGHT</td>\n",
              "      <td>ANGLE</td>\n",
              "      <td>FOUR WAY</td>\n",
              "      <td>STRAIGHT AND LEVEL</td>\n",
              "      <td>DRY</td>\n",
              "      <td>NO DEFECTS</td>\n",
              "      <td>INJURY AND / OR TOW DUE TO CRASH</td>\n",
              "      <td>...</td>\n",
              "      <td>NONINCAPACITATING INJURY</td>\n",
              "      <td>5.0</td>\n",
              "      <td>0.0</td>\n",
              "      <td>0.0</td>\n",
              "      <td>5.0</td>\n",
              "      <td>0.0</td>\n",
              "      <td>0.0</td>\n",
              "      <td>19</td>\n",
              "      <td>4</td>\n",
              "      <td>8</td>\n",
              "    </tr>\n",
              "    <tr>\n",
              "      <th>4</th>\n",
              "      <td>08/19/2023 02:55:00 PM</td>\n",
              "      <td>TRAFFIC SIGNAL</td>\n",
              "      <td>CLEAR</td>\n",
              "      <td>DAYLIGHT</td>\n",
              "      <td>REAR END</td>\n",
              "      <td>T-INTERSECTION</td>\n",
              "      <td>STRAIGHT AND LEVEL</td>\n",
              "      <td>UNKNOWN</td>\n",
              "      <td>UNKNOWN</td>\n",
              "      <td>NO INJURY / DRIVE AWAY</td>\n",
              "      <td>...</td>\n",
              "      <td>NO INDICATION OF INJURY</td>\n",
              "      <td>0.0</td>\n",
              "      <td>0.0</td>\n",
              "      <td>0.0</td>\n",
              "      <td>0.0</td>\n",
              "      <td>0.0</td>\n",
              "      <td>3.0</td>\n",
              "      <td>14</td>\n",
              "      <td>7</td>\n",
              "      <td>8</td>\n",
              "    </tr>\n",
              "  </tbody>\n",
              "</table>\n",
              "<p>5 rows × 24 columns</p>\n",
              "</div>\n",
              "    <div class=\"colab-df-buttons\">\n",
              "\n",
              "  <div class=\"colab-df-container\">\n",
              "    <button class=\"colab-df-convert\" onclick=\"convertToInteractive('df-37c85718-3dc3-4134-aecf-35324ba20d37')\"\n",
              "            title=\"Convert this dataframe to an interactive table.\"\n",
              "            style=\"display:none;\">\n",
              "\n",
              "  <svg xmlns=\"http://www.w3.org/2000/svg\" height=\"24px\" viewBox=\"0 -960 960 960\">\n",
              "    <path d=\"M120-120v-720h720v720H120Zm60-500h600v-160H180v160Zm220 220h160v-160H400v160Zm0 220h160v-160H400v160ZM180-400h160v-160H180v160Zm440 0h160v-160H620v160ZM180-180h160v-160H180v160Zm440 0h160v-160H620v160Z\"/>\n",
              "  </svg>\n",
              "    </button>\n",
              "\n",
              "  <style>\n",
              "    .colab-df-container {\n",
              "      display:flex;\n",
              "      gap: 12px;\n",
              "    }\n",
              "\n",
              "    .colab-df-convert {\n",
              "      background-color: #E8F0FE;\n",
              "      border: none;\n",
              "      border-radius: 50%;\n",
              "      cursor: pointer;\n",
              "      display: none;\n",
              "      fill: #1967D2;\n",
              "      height: 32px;\n",
              "      padding: 0 0 0 0;\n",
              "      width: 32px;\n",
              "    }\n",
              "\n",
              "    .colab-df-convert:hover {\n",
              "      background-color: #E2EBFA;\n",
              "      box-shadow: 0px 1px 2px rgba(60, 64, 67, 0.3), 0px 1px 3px 1px rgba(60, 64, 67, 0.15);\n",
              "      fill: #174EA6;\n",
              "    }\n",
              "\n",
              "    .colab-df-buttons div {\n",
              "      margin-bottom: 4px;\n",
              "    }\n",
              "\n",
              "    [theme=dark] .colab-df-convert {\n",
              "      background-color: #3B4455;\n",
              "      fill: #D2E3FC;\n",
              "    }\n",
              "\n",
              "    [theme=dark] .colab-df-convert:hover {\n",
              "      background-color: #434B5C;\n",
              "      box-shadow: 0px 1px 3px 1px rgba(0, 0, 0, 0.15);\n",
              "      filter: drop-shadow(0px 1px 2px rgba(0, 0, 0, 0.3));\n",
              "      fill: #FFFFFF;\n",
              "    }\n",
              "  </style>\n",
              "\n",
              "    <script>\n",
              "      const buttonEl =\n",
              "        document.querySelector('#df-37c85718-3dc3-4134-aecf-35324ba20d37 button.colab-df-convert');\n",
              "      buttonEl.style.display =\n",
              "        google.colab.kernel.accessAllowed ? 'block' : 'none';\n",
              "\n",
              "      async function convertToInteractive(key) {\n",
              "        const element = document.querySelector('#df-37c85718-3dc3-4134-aecf-35324ba20d37');\n",
              "        const dataTable =\n",
              "          await google.colab.kernel.invokeFunction('convertToInteractive',\n",
              "                                                    [key], {});\n",
              "        if (!dataTable) return;\n",
              "\n",
              "        const docLinkHtml = 'Like what you see? Visit the ' +\n",
              "          '<a target=\"_blank\" href=https://colab.research.google.com/notebooks/data_table.ipynb>data table notebook</a>'\n",
              "          + ' to learn more about interactive tables.';\n",
              "        element.innerHTML = '';\n",
              "        dataTable['output_type'] = 'display_data';\n",
              "        await google.colab.output.renderOutput(dataTable, element);\n",
              "        const docLink = document.createElement('div');\n",
              "        docLink.innerHTML = docLinkHtml;\n",
              "        element.appendChild(docLink);\n",
              "      }\n",
              "    </script>\n",
              "  </div>\n",
              "\n",
              "\n",
              "<div id=\"df-88b34049-d335-47e0-b04b-039efc751242\">\n",
              "  <button class=\"colab-df-quickchart\" onclick=\"quickchart('df-88b34049-d335-47e0-b04b-039efc751242')\"\n",
              "            title=\"Suggest charts\"\n",
              "            style=\"display:none;\">\n",
              "\n",
              "<svg xmlns=\"http://www.w3.org/2000/svg\" height=\"24px\"viewBox=\"0 0 24 24\"\n",
              "     width=\"24px\">\n",
              "    <g>\n",
              "        <path d=\"M19 3H5c-1.1 0-2 .9-2 2v14c0 1.1.9 2 2 2h14c1.1 0 2-.9 2-2V5c0-1.1-.9-2-2-2zM9 17H7v-7h2v7zm4 0h-2V7h2v10zm4 0h-2v-4h2v4z\"/>\n",
              "    </g>\n",
              "</svg>\n",
              "  </button>\n",
              "\n",
              "<style>\n",
              "  .colab-df-quickchart {\n",
              "      --bg-color: #E8F0FE;\n",
              "      --fill-color: #1967D2;\n",
              "      --hover-bg-color: #E2EBFA;\n",
              "      --hover-fill-color: #174EA6;\n",
              "      --disabled-fill-color: #AAA;\n",
              "      --disabled-bg-color: #DDD;\n",
              "  }\n",
              "\n",
              "  [theme=dark] .colab-df-quickchart {\n",
              "      --bg-color: #3B4455;\n",
              "      --fill-color: #D2E3FC;\n",
              "      --hover-bg-color: #434B5C;\n",
              "      --hover-fill-color: #FFFFFF;\n",
              "      --disabled-bg-color: #3B4455;\n",
              "      --disabled-fill-color: #666;\n",
              "  }\n",
              "\n",
              "  .colab-df-quickchart {\n",
              "    background-color: var(--bg-color);\n",
              "    border: none;\n",
              "    border-radius: 50%;\n",
              "    cursor: pointer;\n",
              "    display: none;\n",
              "    fill: var(--fill-color);\n",
              "    height: 32px;\n",
              "    padding: 0;\n",
              "    width: 32px;\n",
              "  }\n",
              "\n",
              "  .colab-df-quickchart:hover {\n",
              "    background-color: var(--hover-bg-color);\n",
              "    box-shadow: 0 1px 2px rgba(60, 64, 67, 0.3), 0 1px 3px 1px rgba(60, 64, 67, 0.15);\n",
              "    fill: var(--button-hover-fill-color);\n",
              "  }\n",
              "\n",
              "  .colab-df-quickchart-complete:disabled,\n",
              "  .colab-df-quickchart-complete:disabled:hover {\n",
              "    background-color: var(--disabled-bg-color);\n",
              "    fill: var(--disabled-fill-color);\n",
              "    box-shadow: none;\n",
              "  }\n",
              "\n",
              "  .colab-df-spinner {\n",
              "    border: 2px solid var(--fill-color);\n",
              "    border-color: transparent;\n",
              "    border-bottom-color: var(--fill-color);\n",
              "    animation:\n",
              "      spin 1s steps(1) infinite;\n",
              "  }\n",
              "\n",
              "  @keyframes spin {\n",
              "    0% {\n",
              "      border-color: transparent;\n",
              "      border-bottom-color: var(--fill-color);\n",
              "      border-left-color: var(--fill-color);\n",
              "    }\n",
              "    20% {\n",
              "      border-color: transparent;\n",
              "      border-left-color: var(--fill-color);\n",
              "      border-top-color: var(--fill-color);\n",
              "    }\n",
              "    30% {\n",
              "      border-color: transparent;\n",
              "      border-left-color: var(--fill-color);\n",
              "      border-top-color: var(--fill-color);\n",
              "      border-right-color: var(--fill-color);\n",
              "    }\n",
              "    40% {\n",
              "      border-color: transparent;\n",
              "      border-right-color: var(--fill-color);\n",
              "      border-top-color: var(--fill-color);\n",
              "    }\n",
              "    60% {\n",
              "      border-color: transparent;\n",
              "      border-right-color: var(--fill-color);\n",
              "    }\n",
              "    80% {\n",
              "      border-color: transparent;\n",
              "      border-right-color: var(--fill-color);\n",
              "      border-bottom-color: var(--fill-color);\n",
              "    }\n",
              "    90% {\n",
              "      border-color: transparent;\n",
              "      border-bottom-color: var(--fill-color);\n",
              "    }\n",
              "  }\n",
              "</style>\n",
              "\n",
              "  <script>\n",
              "    async function quickchart(key) {\n",
              "      const quickchartButtonEl =\n",
              "        document.querySelector('#' + key + ' button');\n",
              "      quickchartButtonEl.disabled = true;  // To prevent multiple clicks.\n",
              "      quickchartButtonEl.classList.add('colab-df-spinner');\n",
              "      try {\n",
              "        const charts = await google.colab.kernel.invokeFunction(\n",
              "            'suggestCharts', [key], {});\n",
              "      } catch (error) {\n",
              "        console.error('Error during call to suggestCharts:', error);\n",
              "      }\n",
              "      quickchartButtonEl.classList.remove('colab-df-spinner');\n",
              "      quickchartButtonEl.classList.add('colab-df-quickchart-complete');\n",
              "    }\n",
              "    (() => {\n",
              "      let quickchartButtonEl =\n",
              "        document.querySelector('#df-88b34049-d335-47e0-b04b-039efc751242 button');\n",
              "      quickchartButtonEl.style.display =\n",
              "        google.colab.kernel.accessAllowed ? 'block' : 'none';\n",
              "    })();\n",
              "  </script>\n",
              "</div>\n",
              "\n",
              "    </div>\n",
              "  </div>\n"
            ],
            "application/vnd.google.colaboratory.intrinsic+json": {
              "type": "dataframe",
              "variable_name": "df"
            }
          },
          "metadata": {},
          "execution_count": 8
        },
        {
          "output_type": "stream",
          "name": "stdout",
          "text": [
            "Warning: Total number of columns (24) exceeds max_columns (20) limiting to first (20) columns.\n"
          ]
        }
      ]
    },
    {
      "cell_type": "markdown",
      "source": [],
      "metadata": {
        "id": "7JpbmVOrrQjW"
      }
    },
    {
      "cell_type": "code",
      "source": [
        "df.shape"
      ],
      "metadata": {
        "colab": {
          "base_uri": "https://localhost:8080/"
        },
        "id": "FqEPTSsiqF37",
        "outputId": "982c5c4c-f7b2-49bc-b1f0-0c19f307b53b"
      },
      "execution_count": 9,
      "outputs": [
        {
          "output_type": "execute_result",
          "data": {
            "text/plain": [
              "(209306, 24)"
            ]
          },
          "metadata": {},
          "execution_count": 9
        }
      ]
    },
    {
      "cell_type": "code",
      "source": [
        "df.isnull().sum()"
      ],
      "metadata": {
        "colab": {
          "base_uri": "https://localhost:8080/",
          "height": 836
        },
        "id": "Ef3tjzvqqhMZ",
        "outputId": "bc6879e7-4c34-43ae-a2ce-522c8a3bd6c5"
      },
      "execution_count": 10,
      "outputs": [
        {
          "output_type": "execute_result",
          "data": {
            "text/plain": [
              "crash_date                       0\n",
              "traffic_control_device           0\n",
              "weather_condition                0\n",
              "lighting_condition               0\n",
              "first_crash_type                 0\n",
              "trafficway_type                  0\n",
              "alignment                        0\n",
              "roadway_surface_cond             0\n",
              "road_defect                      0\n",
              "crash_type                       0\n",
              "intersection_related_i           0\n",
              "damage                           0\n",
              "prim_contributory_cause          0\n",
              "num_units                        0\n",
              "most_severe_injury               0\n",
              "injuries_total                   0\n",
              "injuries_fatal                   0\n",
              "injuries_incapacitating          0\n",
              "injuries_non_incapacitating      0\n",
              "injuries_reported_not_evident    0\n",
              "injuries_no_indication           0\n",
              "crash_hour                       0\n",
              "crash_day_of_week                0\n",
              "crash_month                      0\n",
              "dtype: int64"
            ],
            "text/html": [
              "<div>\n",
              "<style scoped>\n",
              "    .dataframe tbody tr th:only-of-type {\n",
              "        vertical-align: middle;\n",
              "    }\n",
              "\n",
              "    .dataframe tbody tr th {\n",
              "        vertical-align: top;\n",
              "    }\n",
              "\n",
              "    .dataframe thead th {\n",
              "        text-align: right;\n",
              "    }\n",
              "</style>\n",
              "<table border=\"1\" class=\"dataframe\">\n",
              "  <thead>\n",
              "    <tr style=\"text-align: right;\">\n",
              "      <th></th>\n",
              "      <th>0</th>\n",
              "    </tr>\n",
              "  </thead>\n",
              "  <tbody>\n",
              "    <tr>\n",
              "      <th>crash_date</th>\n",
              "      <td>0</td>\n",
              "    </tr>\n",
              "    <tr>\n",
              "      <th>traffic_control_device</th>\n",
              "      <td>0</td>\n",
              "    </tr>\n",
              "    <tr>\n",
              "      <th>weather_condition</th>\n",
              "      <td>0</td>\n",
              "    </tr>\n",
              "    <tr>\n",
              "      <th>lighting_condition</th>\n",
              "      <td>0</td>\n",
              "    </tr>\n",
              "    <tr>\n",
              "      <th>first_crash_type</th>\n",
              "      <td>0</td>\n",
              "    </tr>\n",
              "    <tr>\n",
              "      <th>trafficway_type</th>\n",
              "      <td>0</td>\n",
              "    </tr>\n",
              "    <tr>\n",
              "      <th>alignment</th>\n",
              "      <td>0</td>\n",
              "    </tr>\n",
              "    <tr>\n",
              "      <th>roadway_surface_cond</th>\n",
              "      <td>0</td>\n",
              "    </tr>\n",
              "    <tr>\n",
              "      <th>road_defect</th>\n",
              "      <td>0</td>\n",
              "    </tr>\n",
              "    <tr>\n",
              "      <th>crash_type</th>\n",
              "      <td>0</td>\n",
              "    </tr>\n",
              "    <tr>\n",
              "      <th>intersection_related_i</th>\n",
              "      <td>0</td>\n",
              "    </tr>\n",
              "    <tr>\n",
              "      <th>damage</th>\n",
              "      <td>0</td>\n",
              "    </tr>\n",
              "    <tr>\n",
              "      <th>prim_contributory_cause</th>\n",
              "      <td>0</td>\n",
              "    </tr>\n",
              "    <tr>\n",
              "      <th>num_units</th>\n",
              "      <td>0</td>\n",
              "    </tr>\n",
              "    <tr>\n",
              "      <th>most_severe_injury</th>\n",
              "      <td>0</td>\n",
              "    </tr>\n",
              "    <tr>\n",
              "      <th>injuries_total</th>\n",
              "      <td>0</td>\n",
              "    </tr>\n",
              "    <tr>\n",
              "      <th>injuries_fatal</th>\n",
              "      <td>0</td>\n",
              "    </tr>\n",
              "    <tr>\n",
              "      <th>injuries_incapacitating</th>\n",
              "      <td>0</td>\n",
              "    </tr>\n",
              "    <tr>\n",
              "      <th>injuries_non_incapacitating</th>\n",
              "      <td>0</td>\n",
              "    </tr>\n",
              "    <tr>\n",
              "      <th>injuries_reported_not_evident</th>\n",
              "      <td>0</td>\n",
              "    </tr>\n",
              "    <tr>\n",
              "      <th>injuries_no_indication</th>\n",
              "      <td>0</td>\n",
              "    </tr>\n",
              "    <tr>\n",
              "      <th>crash_hour</th>\n",
              "      <td>0</td>\n",
              "    </tr>\n",
              "    <tr>\n",
              "      <th>crash_day_of_week</th>\n",
              "      <td>0</td>\n",
              "    </tr>\n",
              "    <tr>\n",
              "      <th>crash_month</th>\n",
              "      <td>0</td>\n",
              "    </tr>\n",
              "  </tbody>\n",
              "</table>\n",
              "</div><br><label><b>dtype:</b> int64</label>"
            ]
          },
          "metadata": {},
          "execution_count": 10
        }
      ]
    },
    {
      "cell_type": "code",
      "source": [
        "df.describe()"
      ],
      "metadata": {
        "colab": {
          "base_uri": "https://localhost:8080/",
          "height": 320
        },
        "id": "6fSGOAI-qmdd",
        "outputId": "36c15e35-c0a7-437c-b2a2-18afee9e4452"
      },
      "execution_count": 11,
      "outputs": [
        {
          "output_type": "execute_result",
          "data": {
            "text/plain": [
              "           num_units  injuries_total  injuries_fatal  injuries_incapacitating  \\\n",
              "count  209306.000000   209306.000000   209306.000000            209306.000000   \n",
              "mean        2.063300        0.382717        0.001859                 0.038102   \n",
              "std         0.396012        0.799720        0.047502                 0.233964   \n",
              "min         1.000000        0.000000        0.000000                 0.000000   \n",
              "25%         2.000000        0.000000        0.000000                 0.000000   \n",
              "50%         2.000000        0.000000        0.000000                 0.000000   \n",
              "75%         2.000000        1.000000        0.000000                 0.000000   \n",
              "max        11.000000       21.000000        3.000000                 7.000000   \n",
              "\n",
              "       injuries_non_incapacitating  injuries_reported_not_evident  \\\n",
              "count                209306.000000                  209306.000000   \n",
              "mean                      0.221241                       0.121516   \n",
              "std                       0.614960                       0.450865   \n",
              "min                       0.000000                       0.000000   \n",
              "25%                       0.000000                       0.000000   \n",
              "50%                       0.000000                       0.000000   \n",
              "75%                       0.000000                       0.000000   \n",
              "max                      21.000000                      15.000000   \n",
              "\n",
              "       injuries_no_indication     crash_hour  crash_day_of_week    crash_month  \n",
              "count           209306.000000  209306.000000      209306.000000  209306.000000  \n",
              "mean                 2.244002      13.373047           4.144024       6.771822  \n",
              "std                  1.241175       5.603830           1.966864       3.427593  \n",
              "min                  0.000000       0.000000           1.000000       1.000000  \n",
              "25%                  2.000000       9.000000           2.000000       4.000000  \n",
              "50%                  2.000000      14.000000           4.000000       7.000000  \n",
              "75%                  3.000000      17.000000           6.000000      10.000000  \n",
              "max                 49.000000      23.000000           7.000000      12.000000  "
            ],
            "text/html": [
              "\n",
              "  <div id=\"df-dff79de2-da95-4cc2-9a0a-a3ac0b7be1fc\" class=\"colab-df-container\">\n",
              "    <div>\n",
              "<style scoped>\n",
              "    .dataframe tbody tr th:only-of-type {\n",
              "        vertical-align: middle;\n",
              "    }\n",
              "\n",
              "    .dataframe tbody tr th {\n",
              "        vertical-align: top;\n",
              "    }\n",
              "\n",
              "    .dataframe thead th {\n",
              "        text-align: right;\n",
              "    }\n",
              "</style>\n",
              "<table border=\"1\" class=\"dataframe\">\n",
              "  <thead>\n",
              "    <tr style=\"text-align: right;\">\n",
              "      <th></th>\n",
              "      <th>num_units</th>\n",
              "      <th>injuries_total</th>\n",
              "      <th>injuries_fatal</th>\n",
              "      <th>injuries_incapacitating</th>\n",
              "      <th>injuries_non_incapacitating</th>\n",
              "      <th>injuries_reported_not_evident</th>\n",
              "      <th>injuries_no_indication</th>\n",
              "      <th>crash_hour</th>\n",
              "      <th>crash_day_of_week</th>\n",
              "      <th>crash_month</th>\n",
              "    </tr>\n",
              "  </thead>\n",
              "  <tbody>\n",
              "    <tr>\n",
              "      <th>count</th>\n",
              "      <td>209306.000000</td>\n",
              "      <td>209306.000000</td>\n",
              "      <td>209306.000000</td>\n",
              "      <td>209306.000000</td>\n",
              "      <td>209306.000000</td>\n",
              "      <td>209306.000000</td>\n",
              "      <td>209306.000000</td>\n",
              "      <td>209306.000000</td>\n",
              "      <td>209306.000000</td>\n",
              "      <td>209306.000000</td>\n",
              "    </tr>\n",
              "    <tr>\n",
              "      <th>mean</th>\n",
              "      <td>2.063300</td>\n",
              "      <td>0.382717</td>\n",
              "      <td>0.001859</td>\n",
              "      <td>0.038102</td>\n",
              "      <td>0.221241</td>\n",
              "      <td>0.121516</td>\n",
              "      <td>2.244002</td>\n",
              "      <td>13.373047</td>\n",
              "      <td>4.144024</td>\n",
              "      <td>6.771822</td>\n",
              "    </tr>\n",
              "    <tr>\n",
              "      <th>std</th>\n",
              "      <td>0.396012</td>\n",
              "      <td>0.799720</td>\n",
              "      <td>0.047502</td>\n",
              "      <td>0.233964</td>\n",
              "      <td>0.614960</td>\n",
              "      <td>0.450865</td>\n",
              "      <td>1.241175</td>\n",
              "      <td>5.603830</td>\n",
              "      <td>1.966864</td>\n",
              "      <td>3.427593</td>\n",
              "    </tr>\n",
              "    <tr>\n",
              "      <th>min</th>\n",
              "      <td>1.000000</td>\n",
              "      <td>0.000000</td>\n",
              "      <td>0.000000</td>\n",
              "      <td>0.000000</td>\n",
              "      <td>0.000000</td>\n",
              "      <td>0.000000</td>\n",
              "      <td>0.000000</td>\n",
              "      <td>0.000000</td>\n",
              "      <td>1.000000</td>\n",
              "      <td>1.000000</td>\n",
              "    </tr>\n",
              "    <tr>\n",
              "      <th>25%</th>\n",
              "      <td>2.000000</td>\n",
              "      <td>0.000000</td>\n",
              "      <td>0.000000</td>\n",
              "      <td>0.000000</td>\n",
              "      <td>0.000000</td>\n",
              "      <td>0.000000</td>\n",
              "      <td>2.000000</td>\n",
              "      <td>9.000000</td>\n",
              "      <td>2.000000</td>\n",
              "      <td>4.000000</td>\n",
              "    </tr>\n",
              "    <tr>\n",
              "      <th>50%</th>\n",
              "      <td>2.000000</td>\n",
              "      <td>0.000000</td>\n",
              "      <td>0.000000</td>\n",
              "      <td>0.000000</td>\n",
              "      <td>0.000000</td>\n",
              "      <td>0.000000</td>\n",
              "      <td>2.000000</td>\n",
              "      <td>14.000000</td>\n",
              "      <td>4.000000</td>\n",
              "      <td>7.000000</td>\n",
              "    </tr>\n",
              "    <tr>\n",
              "      <th>75%</th>\n",
              "      <td>2.000000</td>\n",
              "      <td>1.000000</td>\n",
              "      <td>0.000000</td>\n",
              "      <td>0.000000</td>\n",
              "      <td>0.000000</td>\n",
              "      <td>0.000000</td>\n",
              "      <td>3.000000</td>\n",
              "      <td>17.000000</td>\n",
              "      <td>6.000000</td>\n",
              "      <td>10.000000</td>\n",
              "    </tr>\n",
              "    <tr>\n",
              "      <th>max</th>\n",
              "      <td>11.000000</td>\n",
              "      <td>21.000000</td>\n",
              "      <td>3.000000</td>\n",
              "      <td>7.000000</td>\n",
              "      <td>21.000000</td>\n",
              "      <td>15.000000</td>\n",
              "      <td>49.000000</td>\n",
              "      <td>23.000000</td>\n",
              "      <td>7.000000</td>\n",
              "      <td>12.000000</td>\n",
              "    </tr>\n",
              "  </tbody>\n",
              "</table>\n",
              "</div>\n",
              "    <div class=\"colab-df-buttons\">\n",
              "\n",
              "  <div class=\"colab-df-container\">\n",
              "    <button class=\"colab-df-convert\" onclick=\"convertToInteractive('df-dff79de2-da95-4cc2-9a0a-a3ac0b7be1fc')\"\n",
              "            title=\"Convert this dataframe to an interactive table.\"\n",
              "            style=\"display:none;\">\n",
              "\n",
              "  <svg xmlns=\"http://www.w3.org/2000/svg\" height=\"24px\" viewBox=\"0 -960 960 960\">\n",
              "    <path d=\"M120-120v-720h720v720H120Zm60-500h600v-160H180v160Zm220 220h160v-160H400v160Zm0 220h160v-160H400v160ZM180-400h160v-160H180v160Zm440 0h160v-160H620v160ZM180-180h160v-160H180v160Zm440 0h160v-160H620v160Z\"/>\n",
              "  </svg>\n",
              "    </button>\n",
              "\n",
              "  <style>\n",
              "    .colab-df-container {\n",
              "      display:flex;\n",
              "      gap: 12px;\n",
              "    }\n",
              "\n",
              "    .colab-df-convert {\n",
              "      background-color: #E8F0FE;\n",
              "      border: none;\n",
              "      border-radius: 50%;\n",
              "      cursor: pointer;\n",
              "      display: none;\n",
              "      fill: #1967D2;\n",
              "      height: 32px;\n",
              "      padding: 0 0 0 0;\n",
              "      width: 32px;\n",
              "    }\n",
              "\n",
              "    .colab-df-convert:hover {\n",
              "      background-color: #E2EBFA;\n",
              "      box-shadow: 0px 1px 2px rgba(60, 64, 67, 0.3), 0px 1px 3px 1px rgba(60, 64, 67, 0.15);\n",
              "      fill: #174EA6;\n",
              "    }\n",
              "\n",
              "    .colab-df-buttons div {\n",
              "      margin-bottom: 4px;\n",
              "    }\n",
              "\n",
              "    [theme=dark] .colab-df-convert {\n",
              "      background-color: #3B4455;\n",
              "      fill: #D2E3FC;\n",
              "    }\n",
              "\n",
              "    [theme=dark] .colab-df-convert:hover {\n",
              "      background-color: #434B5C;\n",
              "      box-shadow: 0px 1px 3px 1px rgba(0, 0, 0, 0.15);\n",
              "      filter: drop-shadow(0px 1px 2px rgba(0, 0, 0, 0.3));\n",
              "      fill: #FFFFFF;\n",
              "    }\n",
              "  </style>\n",
              "\n",
              "    <script>\n",
              "      const buttonEl =\n",
              "        document.querySelector('#df-dff79de2-da95-4cc2-9a0a-a3ac0b7be1fc button.colab-df-convert');\n",
              "      buttonEl.style.display =\n",
              "        google.colab.kernel.accessAllowed ? 'block' : 'none';\n",
              "\n",
              "      async function convertToInteractive(key) {\n",
              "        const element = document.querySelector('#df-dff79de2-da95-4cc2-9a0a-a3ac0b7be1fc');\n",
              "        const dataTable =\n",
              "          await google.colab.kernel.invokeFunction('convertToInteractive',\n",
              "                                                    [key], {});\n",
              "        if (!dataTable) return;\n",
              "\n",
              "        const docLinkHtml = 'Like what you see? Visit the ' +\n",
              "          '<a target=\"_blank\" href=https://colab.research.google.com/notebooks/data_table.ipynb>data table notebook</a>'\n",
              "          + ' to learn more about interactive tables.';\n",
              "        element.innerHTML = '';\n",
              "        dataTable['output_type'] = 'display_data';\n",
              "        await google.colab.output.renderOutput(dataTable, element);\n",
              "        const docLink = document.createElement('div');\n",
              "        docLink.innerHTML = docLinkHtml;\n",
              "        element.appendChild(docLink);\n",
              "      }\n",
              "    </script>\n",
              "  </div>\n",
              "\n",
              "\n",
              "<div id=\"df-30d81f49-00bc-4df5-a959-abcebee9a512\">\n",
              "  <button class=\"colab-df-quickchart\" onclick=\"quickchart('df-30d81f49-00bc-4df5-a959-abcebee9a512')\"\n",
              "            title=\"Suggest charts\"\n",
              "            style=\"display:none;\">\n",
              "\n",
              "<svg xmlns=\"http://www.w3.org/2000/svg\" height=\"24px\"viewBox=\"0 0 24 24\"\n",
              "     width=\"24px\">\n",
              "    <g>\n",
              "        <path d=\"M19 3H5c-1.1 0-2 .9-2 2v14c0 1.1.9 2 2 2h14c1.1 0 2-.9 2-2V5c0-1.1-.9-2-2-2zM9 17H7v-7h2v7zm4 0h-2V7h2v10zm4 0h-2v-4h2v4z\"/>\n",
              "    </g>\n",
              "</svg>\n",
              "  </button>\n",
              "\n",
              "<style>\n",
              "  .colab-df-quickchart {\n",
              "      --bg-color: #E8F0FE;\n",
              "      --fill-color: #1967D2;\n",
              "      --hover-bg-color: #E2EBFA;\n",
              "      --hover-fill-color: #174EA6;\n",
              "      --disabled-fill-color: #AAA;\n",
              "      --disabled-bg-color: #DDD;\n",
              "  }\n",
              "\n",
              "  [theme=dark] .colab-df-quickchart {\n",
              "      --bg-color: #3B4455;\n",
              "      --fill-color: #D2E3FC;\n",
              "      --hover-bg-color: #434B5C;\n",
              "      --hover-fill-color: #FFFFFF;\n",
              "      --disabled-bg-color: #3B4455;\n",
              "      --disabled-fill-color: #666;\n",
              "  }\n",
              "\n",
              "  .colab-df-quickchart {\n",
              "    background-color: var(--bg-color);\n",
              "    border: none;\n",
              "    border-radius: 50%;\n",
              "    cursor: pointer;\n",
              "    display: none;\n",
              "    fill: var(--fill-color);\n",
              "    height: 32px;\n",
              "    padding: 0;\n",
              "    width: 32px;\n",
              "  }\n",
              "\n",
              "  .colab-df-quickchart:hover {\n",
              "    background-color: var(--hover-bg-color);\n",
              "    box-shadow: 0 1px 2px rgba(60, 64, 67, 0.3), 0 1px 3px 1px rgba(60, 64, 67, 0.15);\n",
              "    fill: var(--button-hover-fill-color);\n",
              "  }\n",
              "\n",
              "  .colab-df-quickchart-complete:disabled,\n",
              "  .colab-df-quickchart-complete:disabled:hover {\n",
              "    background-color: var(--disabled-bg-color);\n",
              "    fill: var(--disabled-fill-color);\n",
              "    box-shadow: none;\n",
              "  }\n",
              "\n",
              "  .colab-df-spinner {\n",
              "    border: 2px solid var(--fill-color);\n",
              "    border-color: transparent;\n",
              "    border-bottom-color: var(--fill-color);\n",
              "    animation:\n",
              "      spin 1s steps(1) infinite;\n",
              "  }\n",
              "\n",
              "  @keyframes spin {\n",
              "    0% {\n",
              "      border-color: transparent;\n",
              "      border-bottom-color: var(--fill-color);\n",
              "      border-left-color: var(--fill-color);\n",
              "    }\n",
              "    20% {\n",
              "      border-color: transparent;\n",
              "      border-left-color: var(--fill-color);\n",
              "      border-top-color: var(--fill-color);\n",
              "    }\n",
              "    30% {\n",
              "      border-color: transparent;\n",
              "      border-left-color: var(--fill-color);\n",
              "      border-top-color: var(--fill-color);\n",
              "      border-right-color: var(--fill-color);\n",
              "    }\n",
              "    40% {\n",
              "      border-color: transparent;\n",
              "      border-right-color: var(--fill-color);\n",
              "      border-top-color: var(--fill-color);\n",
              "    }\n",
              "    60% {\n",
              "      border-color: transparent;\n",
              "      border-right-color: var(--fill-color);\n",
              "    }\n",
              "    80% {\n",
              "      border-color: transparent;\n",
              "      border-right-color: var(--fill-color);\n",
              "      border-bottom-color: var(--fill-color);\n",
              "    }\n",
              "    90% {\n",
              "      border-color: transparent;\n",
              "      border-bottom-color: var(--fill-color);\n",
              "    }\n",
              "  }\n",
              "</style>\n",
              "\n",
              "  <script>\n",
              "    async function quickchart(key) {\n",
              "      const quickchartButtonEl =\n",
              "        document.querySelector('#' + key + ' button');\n",
              "      quickchartButtonEl.disabled = true;  // To prevent multiple clicks.\n",
              "      quickchartButtonEl.classList.add('colab-df-spinner');\n",
              "      try {\n",
              "        const charts = await google.colab.kernel.invokeFunction(\n",
              "            'suggestCharts', [key], {});\n",
              "      } catch (error) {\n",
              "        console.error('Error during call to suggestCharts:', error);\n",
              "      }\n",
              "      quickchartButtonEl.classList.remove('colab-df-spinner');\n",
              "      quickchartButtonEl.classList.add('colab-df-quickchart-complete');\n",
              "    }\n",
              "    (() => {\n",
              "      let quickchartButtonEl =\n",
              "        document.querySelector('#df-30d81f49-00bc-4df5-a959-abcebee9a512 button');\n",
              "      quickchartButtonEl.style.display =\n",
              "        google.colab.kernel.accessAllowed ? 'block' : 'none';\n",
              "    })();\n",
              "  </script>\n",
              "</div>\n",
              "\n",
              "    </div>\n",
              "  </div>\n"
            ],
            "application/vnd.google.colaboratory.intrinsic+json": {
              "type": "dataframe",
              "summary": "{\n  \"name\": \"df\",\n  \"rows\": 8,\n  \"fields\": [\n    {\n      \"column\": \"num_units\",\n      \"properties\": {\n        \"dtype\": \"number\",\n        \"std\": 73999.81269611945,\n        \"min\": 0.3960118828144409,\n        \"max\": 209306.0,\n        \"num_unique_values\": 6,\n        \"samples\": [\n          209306.0,\n          2.0632996665169654,\n          11.0\n        ],\n        \"semantic_type\": \"\",\n        \"description\": \"\"\n      }\n    },\n    {\n      \"column\": \"injuries_total\",\n      \"properties\": {\n        \"dtype\": \"number\",\n        \"std\": 73999.67543491595,\n        \"min\": 0.0,\n        \"max\": 209306.0,\n        \"num_unique_values\": 6,\n        \"samples\": [\n          209306.0,\n          0.38271717007634753,\n          21.0\n        ],\n        \"semantic_type\": \"\",\n        \"description\": \"\"\n      }\n    },\n    {\n      \"column\": \"injuries_fatal\",\n      \"properties\": {\n        \"dtype\": \"number\",\n        \"std\": 74000.69196297647,\n        \"min\": 0.0,\n        \"max\": 209306.0,\n        \"num_unique_values\": 5,\n        \"samples\": [\n          0.001858522928153039,\n          3.0,\n          0.0475016409076349\n        ],\n        \"semantic_type\": \"\",\n        \"description\": \"\"\n      }\n    },\n    {\n      \"column\": \"injuries_incapacitating\",\n      \"properties\": {\n        \"dtype\": \"number\",\n        \"std\": 74000.47871679271,\n        \"min\": 0.0,\n        \"max\": 209306.0,\n        \"num_unique_values\": 5,\n        \"samples\": [\n          0.03810210887408866,\n          7.0,\n          0.23396356300685647\n        ],\n        \"semantic_type\": \"\",\n        \"description\": \"\"\n      }\n    },\n    {\n      \"column\": \"injuries_non_incapacitating\",\n      \"properties\": {\n        \"dtype\": \"number\",\n        \"std\": 73999.7434371866,\n        \"min\": 0.0,\n        \"max\": 209306.0,\n        \"num_unique_values\": 5,\n        \"samples\": [\n          0.22124067155265498,\n          21.0,\n          0.6149596972698961\n        ],\n        \"semantic_type\": \"\",\n        \"description\": \"\"\n      }\n    },\n    {\n      \"column\": \"injuries_reported_not_evident\",\n      \"properties\": {\n        \"dtype\": \"number\",\n        \"std\": 74000.05963146013,\n        \"min\": 0.0,\n        \"max\": 209306.0,\n        \"num_unique_values\": 5,\n        \"samples\": [\n          0.12151586672145089,\n          15.0,\n          0.45086501269559465\n        ],\n        \"semantic_type\": \"\",\n        \"description\": \"\"\n      }\n    },\n    {\n      \"column\": \"injuries_no_indication\",\n      \"properties\": {\n        \"dtype\": \"number\",\n        \"std\": 73997.84336883397,\n        \"min\": 0.0,\n        \"max\": 209306.0,\n        \"num_unique_values\": 7,\n        \"samples\": [\n          209306.0,\n          2.2440016053051512,\n          3.0\n        ],\n        \"semantic_type\": \"\",\n        \"description\": \"\"\n      }\n    },\n    {\n      \"column\": \"crash_hour\",\n      \"properties\": {\n        \"dtype\": \"number\",\n        \"std\": 73996.70584717643,\n        \"min\": 0.0,\n        \"max\": 209306.0,\n        \"num_unique_values\": 8,\n        \"samples\": [\n          13.373047117617268,\n          14.0,\n          209306.0\n        ],\n        \"semantic_type\": \"\",\n        \"description\": \"\"\n      }\n    },\n    {\n      \"column\": \"crash_day_of_week\",\n      \"properties\": {\n        \"dtype\": \"number\",\n        \"std\": 73999.52720117124,\n        \"min\": 1.0,\n        \"max\": 209306.0,\n        \"num_unique_values\": 8,\n        \"samples\": [\n          4.144023582697104,\n          4.0,\n          209306.0\n        ],\n        \"semantic_type\": \"\",\n        \"description\": \"\"\n      }\n    },\n    {\n      \"column\": \"crash_month\",\n      \"properties\": {\n        \"dtype\": \"number\",\n        \"std\": 73998.61364938458,\n        \"min\": 1.0,\n        \"max\": 209306.0,\n        \"num_unique_values\": 8,\n        \"samples\": [\n          6.771822116900615,\n          7.0,\n          209306.0\n        ],\n        \"semantic_type\": \"\",\n        \"description\": \"\"\n      }\n    }\n  ]\n}"
            }
          },
          "metadata": {},
          "execution_count": 11
        }
      ]
    },
    {
      "cell_type": "markdown",
      "source": [
        "# Crash Type"
      ],
      "metadata": {
        "id": "MSwmUwOAyJJN"
      }
    },
    {
      "cell_type": "code",
      "source": [
        "df['crash_type'].value_counts()"
      ],
      "metadata": {
        "colab": {
          "base_uri": "https://localhost:8080/",
          "height": 178
        },
        "id": "yN64M2FayQnq",
        "outputId": "19e1a19d-26d0-4612-d621-39fe8c605723"
      },
      "execution_count": 61,
      "outputs": [
        {
          "output_type": "execute_result",
          "data": {
            "text/plain": [
              "crash_type\n",
              "NO INJURY / DRIVE AWAY              117376\n",
              "INJURY AND / OR TOW DUE TO CRASH     91930\n",
              "Name: count, dtype: int64"
            ],
            "text/html": [
              "<div>\n",
              "<style scoped>\n",
              "    .dataframe tbody tr th:only-of-type {\n",
              "        vertical-align: middle;\n",
              "    }\n",
              "\n",
              "    .dataframe tbody tr th {\n",
              "        vertical-align: top;\n",
              "    }\n",
              "\n",
              "    .dataframe thead th {\n",
              "        text-align: right;\n",
              "    }\n",
              "</style>\n",
              "<table border=\"1\" class=\"dataframe\">\n",
              "  <thead>\n",
              "    <tr style=\"text-align: right;\">\n",
              "      <th></th>\n",
              "      <th>count</th>\n",
              "    </tr>\n",
              "    <tr>\n",
              "      <th>crash_type</th>\n",
              "      <th></th>\n",
              "    </tr>\n",
              "  </thead>\n",
              "  <tbody>\n",
              "    <tr>\n",
              "      <th>NO INJURY / DRIVE AWAY</th>\n",
              "      <td>117376</td>\n",
              "    </tr>\n",
              "    <tr>\n",
              "      <th>INJURY AND / OR TOW DUE TO CRASH</th>\n",
              "      <td>91930</td>\n",
              "    </tr>\n",
              "  </tbody>\n",
              "</table>\n",
              "</div><br><label><b>dtype:</b> int64</label>"
            ]
          },
          "metadata": {},
          "execution_count": 61
        }
      ]
    },
    {
      "cell_type": "code",
      "source": [
        "plt.figure(figsize=(8, 6))\n",
        "plt.hist(df['crash_type'].dropna(), bins=20)  # Handle potential missing values\n",
        "plt.xlabel('Crash type')\n",
        "plt.ylabel('Frequency')\n",
        "plt.title('Distribution of Crash Type')\n",
        "plt.show()"
      ],
      "metadata": {
        "colab": {
          "base_uri": "https://localhost:8080/",
          "height": 564
        },
        "id": "3dn46XNCq2xl",
        "outputId": "8fad3c8d-72af-485d-a95b-358be8d0c0ec"
      },
      "execution_count": 47,
      "outputs": [
        {
          "output_type": "display_data",
          "data": {
            "text/plain": [
              "<Figure size 800x600 with 1 Axes>"
            ],
            "image/png": "[encoded data removed]"
          },
          "metadata": {}
        }
      ]
    },
    {
      "cell_type": "markdown",
      "source": [
        "# Crash Month"
      ],
      "metadata": {
        "id": "9bhQH_RIzFCQ"
      }
    },
    {
      "cell_type": "code",
      "source": [
        "table_month = df['crash_month'].value_counts()\n",
        "mode_month = df['crash_month'].mode()\n",
        "print(\"Distribution of month of the crash\",table_month)\n",
        "months = [\"January\",\"February\",\"March\",\"April\",\"May\",\"June\",\"July\",\"August\",\"September\",\"October\",\"November\",\"December\"]\n",
        "print(\"Crashes happends more frequently on: \",calendar.month_name[mode_month.values[0]])"
      ],
      "metadata": {
        "colab": {
          "base_uri": "https://localhost:8080/"
        },
        "id": "G1OPU1zZzLMz",
        "outputId": "f75e67bd-8dd8-4246-9b12-5d5e3cbad772"
      },
      "execution_count": 78,
      "outputs": [
        {
          "output_type": "stream",
          "name": "stdout",
          "text": [
            "Distribution of month of the crash crash_month\n",
            "10    20089\n",
            "9     19018\n",
            "12    18816\n",
            "8     18350\n",
            "11    18328\n",
            "6     17851\n",
            "7     17834\n",
            "5     17432\n",
            "1     16606\n",
            "3     15265\n",
            "4     15096\n",
            "2     14621\n",
            "Name: count, dtype: int64\n",
            "Crashes happends more frequently on:  October\n"
          ]
        }
      ]
    },
    {
      "cell_type": "code",
      "source": [
        "sns.countplot(x='crash_month', data=df)\n",
        "plt.title('Crash Month Distribution')\n",
        "plt.xlabel('Crash Month')\n",
        "plt.ylabel('Frequency')\n",
        "plt.figure(figsize=(12, 6))\n",
        "plt.show()"
      ],
      "metadata": {
        "colab": {
          "base_uri": "https://localhost:8080/",
          "height": 489
        },
        "id": "aHRB3SNdxZDn",
        "outputId": "7b39a528-1008-4735-f144-33ff79888721"
      },
      "execution_count": 58,
      "outputs": [
        {
          "output_type": "display_data",
          "data": {
            "text/plain": [
              "<Figure size 640x480 with 1 Axes>"
            ],
            "image/png": "[encoded data removed]"
          },
          "metadata": {}
        },
        {
          "output_type": "display_data",
          "data": {
            "text/plain": [
              "<Figure size 1200x600 with 0 Axes>"
            ]
          },
          "metadata": {}
        }
      ]
    },
    {
      "cell_type": "markdown",
      "source": [
        "# Crash day of the week"
      ],
      "metadata": {
        "id": "qPNRGAeVya3R"
      }
    },
    {
      "cell_type": "code",
      "source": [
        "key = \"crash_day_of_week\"\n",
        "table= df[key].value_counts()\n",
        "mode = df[key].mode()\n",
        "print(f\"Distribution of: {key}\",table)\n",
        "print(\"Crashes happends more frequently on: \",calendar.day_name[mode.values[0]-1])"
      ],
      "metadata": {
        "colab": {
          "base_uri": "https://localhost:8080/"
        },
        "id": "hSEROpvFyq7o",
        "outputId": "8296991b-b869-4b10-db54-3a44cd7c0fd1"
      },
      "execution_count": 81,
      "outputs": [
        {
          "output_type": "stream",
          "name": "stdout",
          "text": [
            "Distribution of: crash_day_of_week crash_day_of_week\n",
            "6    34458\n",
            "5    30787\n",
            "7    30710\n",
            "4    30093\n",
            "3    30074\n",
            "2    27938\n",
            "1    25246\n",
            "Name: count, dtype: int64\n",
            "Crashes happends more frequently on:  Saturday\n"
          ]
        }
      ]
    },
    {
      "cell_type": "code",
      "source": [
        "sns.countplot(x='crash_day_of_week', data=df)\n",
        "plt.title('Crash Day of the week Distribution')\n",
        "plt.xlabel('Crash Day of the week')\n",
        "plt.ylabel('Frequency')\n",
        "plt.figure(figsize=(12, 6))\n",
        "plt.show()"
      ],
      "metadata": {
        "colab": {
          "base_uri": "https://localhost:8080/",
          "height": 489
        },
        "id": "6vHT6xgIwU18",
        "outputId": "7564de94-6026-436f-9b61-8ca68faed4ed"
      },
      "execution_count": 80,
      "outputs": [
        {
          "output_type": "display_data",
          "data": {
            "text/plain": [
              "<Figure size 640x480 with 1 Axes>"
            ],
            "image/png": "[encoded data removed]"
          },
          "metadata": {}
        },
        {
          "output_type": "display_data",
          "data": {
            "text/plain": [
              "<Figure size 1200x600 with 0 Axes>"
            ]
          },
          "metadata": {}
        }
      ]
    },
    {
      "cell_type": "markdown",
      "source": [
        "# CRASH HOUR"
      ],
      "metadata": {
        "id": "-X0VSEQe10iV"
      }
    },
    {
      "cell_type": "code",
      "source": [
        "key = \"crash_hour\"\n",
        "table= df[key].value_counts()\n",
        "mode = df[key].mode()\n",
        "print(f\"Distribution of: {key}\",table)\n",
        "print(\"Crashes happends more frequently on: \",mode.values[0])"
      ],
      "metadata": {
        "colab": {
          "base_uri": "https://localhost:8080/"
        },
        "id": "pj1OQZNj1zjJ",
        "outputId": "6eacb847-535b-4455-c3f4-6e2072057b09"
      },
      "execution_count": 82,
      "outputs": [
        {
          "output_type": "stream",
          "name": "stdout",
          "text": [
            "Distribution of: crash_hour crash_hour\n",
            "17    16097\n",
            "16    16025\n",
            "15    15894\n",
            "18    13431\n",
            "14    13349\n",
            "13    11949\n",
            "12    11726\n",
            "8     11381\n",
            "11    10052\n",
            "19     9683\n",
            "7      9405\n",
            "9      9300\n",
            "10     8990\n",
            "20     8219\n",
            "21     7472\n",
            "22     7035\n",
            "23     5943\n",
            "6      4772\n",
            "0      4487\n",
            "1      3729\n",
            "2      3080\n",
            "5      2819\n",
            "3      2364\n",
            "4      2104\n",
            "Name: count, dtype: int64\n",
            "Crashes happends more frequently on:  17\n"
          ]
        }
      ]
    },
    {
      "cell_type": "code",
      "source": [
        "sns.countplot(x='crash_hour', data=df)\n",
        "plt.title('Crash Hour Distribution')\n",
        "plt.xlabel('Crash Hour')\n",
        "plt.ylabel('Frequency')\n",
        "plt.figure(figsize=(12, 6))\n",
        "plt.show()"
      ],
      "metadata": {
        "colab": {
          "base_uri": "https://localhost:8080/",
          "height": 489
        },
        "id": "b9v1cFFIxEAj",
        "outputId": "51f85323-086f-4ae7-8c0d-45a129a03a13"
      },
      "execution_count": 57,
      "outputs": [
        {
          "output_type": "display_data",
          "data": {
            "text/plain": [
              "<Figure size 640x480 with 1 Axes>"
            ],
            "image/png": "[encoded data removed]"
          },
          "metadata": {}
        },
        {
          "output_type": "display_data",
          "data": {
            "text/plain": [
              "<Figure size 1200x600 with 0 Axes>"
            ]
          },
          "metadata": {}
        }
      ]
    },
    {
      "cell_type": "code",
      "source": [
        "sns.countplot(x='num_units', data=df)\n",
        "plt.title('Num Units Distribution')\n",
        "plt.xlabel('Num units')\n",
        "plt.ylabel('Frequency')\n",
        "plt.figure(figsize=(12, 6))\n",
        "plt.show()"
      ],
      "metadata": {
        "colab": {
          "base_uri": "https://localhost:8080/",
          "height": 489
        },
        "id": "R8Zq0THMu4VZ",
        "outputId": "c9b593b1-59db-4f8e-cf2f-ac19fba6ac1d"
      },
      "execution_count": 55,
      "outputs": [
        {
          "output_type": "display_data",
          "data": {
            "text/plain": [
              "<Figure size 640x480 with 1 Axes>"
            ],
            "image/png": "[encoded data removed]"
          },
          "metadata": {}
        },
        {
          "output_type": "display_data",
          "data": {
            "text/plain": [
              "<Figure size 1200x600 with 0 Axes>"
            ]
          },
          "metadata": {}
        }
      ]
    },
    {
      "cell_type": "code",
      "source": [],
      "metadata": {
        "id": "3OR0OsJlw0Lz"
      },
      "execution_count": null,
      "outputs": []
    }
  ]
}